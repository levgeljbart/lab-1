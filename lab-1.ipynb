{
 "cells": [
  {
   "cell_type": "markdown",
   "id": "692e0516",
   "metadata": {},
   "source": [
    "Гельбарт Лев НММбд-01-22\n",
    "\n",
    "Задание 1\n",
    "\n",
    "Заполняем случайными числами от 1 до 1000 массив на сто элементов. Задаем функции всех алгоритмов поиска."
   ]
  },
  {
   "cell_type": "code",
   "execution_count": null,
   "id": "2941caca",
   "metadata": {},
   "outputs": [],
   "source": [
    "from random import randint\n",
    "\n",
    "a=[]\n",
    "for i in range(100):\n",
    "    a.append(randint(1, 1000))"
   ]
  },
  {
   "cell_type": "code",
   "execution_count": 119,
   "id": "a30d8f23",
   "metadata": {},
   "outputs": [],
   "source": [
    "def LinearSearch(nums, val):\n",
    "    for i in range(len(nums)):\n",
    "        if nums[i] == val:\n",
    "            return i\n",
    "    return -1\n",
    "result = LinearSearch(a, a[5])"
   ]
  },
  {
   "cell_type": "code",
   "execution_count": 121,
   "id": "2c1df8e9",
   "metadata": {},
   "outputs": [],
   "source": [
    "def BinarySearch(nums, val):\n",
    "    for i in range(13):\n",
    "        for j in range(12):\n",
    "            if a[j] > a[j+1]:\n",
    "                a[j], a[j+1] = a[j+1], a[j]\n",
    "    first = 0\n",
    "    last = len(nums)-1\n",
    "    index = -1\n",
    "    while (first <= last) and (index == -1):\n",
    "        mid = (first+last)//2\n",
    "        if nums[mid] == val:\n",
    "            index = mid\n",
    "        else:\n",
    "            if val<nums[mid]:\n",
    "                last = mid -1\n",
    "            else:\n",
    "                first = mid +1\n",
    "    return index"
   ]
  },
  {
   "cell_type": "code",
   "execution_count": 122,
   "id": "d5e62501",
   "metadata": {},
   "outputs": [],
   "source": [
    "def JumpSearch(nums, val):\n",
    "    for i in range(13):\n",
    "        for j in range(12):\n",
    "            if a[j] > a[j+1]:\n",
    "                a[j], a[j+1] = a[j+1], a[j]\n",
    "    length = len(nums)\n",
    "    jump = int(length**0.5)\n",
    "    left, right = 0, 0\n",
    "    while left < length and nums[left] <= val:\n",
    "        right = min(length - 1, left + jump)\n",
    "        if nums[left] <= val and nums[right] >= val:\n",
    "            break\n",
    "        left += jump;\n",
    "    if left >= length or nums[left] > val:\n",
    "        return -1\n",
    "    right = min(length - 1, right)\n",
    "    i = left\n",
    "    while i <= right and nums[i] <= val:\n",
    "        if nums[i] == val:\n",
    "            return i\n",
    "        i += 1\n",
    "    return -1"
   ]
  },
  {
   "cell_type": "code",
   "execution_count": 123,
   "id": "e4ef4f4d",
   "metadata": {},
   "outputs": [],
   "source": [
    "def FibonacciSearch(nums, val):\n",
    "    for i in range(13):\n",
    "        for j in range(12):\n",
    "            if a[j] > a[j+1]:\n",
    "                a[j], a[j+1] = a[j+1], a[j]\n",
    "    fibM_minus_2 = 0\n",
    "    fibM_minus_1 = 1\n",
    "    fibM = fibM_minus_1 + fibM_minus_2\n",
    "    while (fibM < len(nums)):\n",
    "        fibM_minus_2 = fibM_minus_1\n",
    "        fibM_minus_1 = fibM\n",
    "        fibM = fibM_minus_1 + fibM_minus_2\n",
    "    index = -1;\n",
    "    while (fibM > 1):\n",
    "        i = min(index + fibM_minus_2, (len(nums)-1))\n",
    "        if (nums[i] < val):\n",
    "            fibM = fibM_minus_1\n",
    "            fibM_minus_1 = fibM_minus_2\n",
    "            fibM_minus_2 = fibM - fibM_minus_1\n",
    "            index = i\n",
    "        elif (nums[i] > val):\n",
    "            fibM = fibM_minus_2\n",
    "            fibM_minus_1 = fibM_minus_1 - fibM_minus_2\n",
    "            fibM_minus_2 = fibM - fibM_minus_1\n",
    "        else :\n",
    "            return i\n",
    "    if(fibM_minus_1 and index < (len(nums)-1) and nums[index+1] == val):\n",
    "        return index+1;\n",
    "    return -1"
   ]
  },
  {
   "cell_type": "code",
   "execution_count": 124,
   "id": "c9406c8e",
   "metadata": {},
   "outputs": [],
   "source": [
    "def ExponentialSearch(nums, val):\n",
    "    if nums[0] == val:\n",
    "        return 0\n",
    "    index = 1\n",
    "    while index < len(nums) and nums[index] <= val:\n",
    "        prev_index = index\n",
    "        index = index * 2\n",
    "    return BinarySearch(nums[:min(index, len(nums))], val)"
   ]
  },
  {
   "cell_type": "code",
   "execution_count": 125,
   "id": "962c562c",
   "metadata": {},
   "outputs": [],
   "source": [
    "def InterpolationSearch(nums, val):\n",
    "    low = 0\n",
    "    high = (len(nums) - 1)\n",
    "    while low <= high and val >= nums[low] and val <= nums[high]:\n",
    "        index = low + int(((float(high - low) / ( nums[high] - nums[low])) * ( val - nums[low])))\n",
    "        if nums[index] == val:\n",
    "            return index\n",
    "        if nums[index] < val:\n",
    "            low = index + 1;\n",
    "        else:\n",
    "            high = index - 1;\n",
    "    return -1"
   ]
  },
  {
   "cell_type": "markdown",
   "id": "73df7117",
   "metadata": {},
   "source": [
    "С помощью timeit замеряем время работы всех алгоритмов в поиске пятого, а потом девяносто пятого элемента."
   ]
  },
  {
   "cell_type": "code",
   "execution_count": 126,
   "id": "ba60ee30",
   "metadata": {},
   "outputs": [
    {
     "name": "stdout",
     "output_type": "stream",
     "text": [
      "853 ns ± 28 ns per loop (mean ± std. dev. of 7 runs, 1,000,000 loops each)\n"
     ]
    }
   ],
   "source": [
    "%%timeit\n",
    "\n",
    "# Линейный поиск\n",
    "result = LinearSearch(a, a[5])"
   ]
  },
  {
   "cell_type": "code",
   "execution_count": 127,
   "id": "8bda6552",
   "metadata": {},
   "outputs": [
    {
     "name": "stdout",
     "output_type": "stream",
     "text": [
      "23.1 µs ± 791 ns per loop (mean ± std. dev. of 7 runs, 10,000 loops each)\n"
     ]
    }
   ],
   "source": [
    "%%timeit\n",
    "\n",
    "# Бинарный поиск\n",
    "result = BinarySearch(a, a[5])"
   ]
  },
  {
   "cell_type": "code",
   "execution_count": 128,
   "id": "ce7b9ef1",
   "metadata": {},
   "outputs": [
    {
     "name": "stdout",
     "output_type": "stream",
     "text": [
      "26.6 µs ± 1.49 µs per loop (mean ± std. dev. of 7 runs, 10,000 loops each)\n"
     ]
    }
   ],
   "source": [
    "%%timeit\n",
    "\n",
    "# Jump search\n",
    "result = JumpSearch(a, a[5])"
   ]
  },
  {
   "cell_type": "code",
   "execution_count": 129,
   "id": "a12c4643",
   "metadata": {},
   "outputs": [
    {
     "name": "stdout",
     "output_type": "stream",
     "text": [
      "27.7 µs ± 1.7 µs per loop (mean ± std. dev. of 7 runs, 10,000 loops each)\n"
     ]
    }
   ],
   "source": [
    "%%timeit\n",
    "\n",
    "# Поиск Фибоначчи\n",
    "result = FibonacciSearch(a, a[5])"
   ]
  },
  {
   "cell_type": "code",
   "execution_count": 130,
   "id": "96e4c9e5",
   "metadata": {},
   "outputs": [
    {
     "name": "stdout",
     "output_type": "stream",
     "text": [
      "26.4 µs ± 1.44 µs per loop (mean ± std. dev. of 7 runs, 10,000 loops each)\n"
     ]
    }
   ],
   "source": [
    "%%timeit\n",
    "\n",
    "# Экспоненциальный поиск\n",
    "result = ExponentialSearch(a, a[5])"
   ]
  },
  {
   "cell_type": "code",
   "execution_count": 131,
   "id": "6617c6b0",
   "metadata": {},
   "outputs": [
    {
     "name": "stdout",
     "output_type": "stream",
     "text": [
      "842 ns ± 43.8 ns per loop (mean ± std. dev. of 7 runs, 1,000,000 loops each)\n"
     ]
    }
   ],
   "source": [
    "%%timeit\n",
    "\n",
    "# Интерполяционный поиск\n",
    "result = InterpolationSearch(a, a[5])"
   ]
  },
  {
   "cell_type": "code",
   "execution_count": 133,
   "id": "99730d2c",
   "metadata": {},
   "outputs": [
    {
     "name": "stdout",
     "output_type": "stream",
     "text": [
      "5.86 µs ± 499 ns per loop (mean ± std. dev. of 7 runs, 100,000 loops each)\n"
     ]
    }
   ],
   "source": [
    "%%timeit\n",
    "\n",
    "# Линейный поиск\n",
    "result = LinearSearch(a, a[95])"
   ]
  },
  {
   "cell_type": "code",
   "execution_count": 134,
   "id": "8eeb093f",
   "metadata": {},
   "outputs": [
    {
     "name": "stdout",
     "output_type": "stream",
     "text": [
      "28.2 µs ± 4.34 µs per loop (mean ± std. dev. of 7 runs, 10,000 loops each)\n"
     ]
    }
   ],
   "source": [
    "%%timeit\n",
    "\n",
    "# Бинарный поиск\n",
    "result = BinarySearch(a, a[95])"
   ]
  },
  {
   "cell_type": "code",
   "execution_count": 135,
   "id": "4f4ab5b4",
   "metadata": {},
   "outputs": [
    {
     "name": "stdout",
     "output_type": "stream",
     "text": [
      "27.7 µs ± 1.17 µs per loop (mean ± std. dev. of 7 runs, 10,000 loops each)\n"
     ]
    }
   ],
   "source": [
    "%%timeit\n",
    "\n",
    "# Jump search\n",
    "result = JumpSearch(a, a[95])"
   ]
  },
  {
   "cell_type": "code",
   "execution_count": 136,
   "id": "8fea00a2",
   "metadata": {},
   "outputs": [
    {
     "name": "stdout",
     "output_type": "stream",
     "text": [
      "30.1 µs ± 2.6 µs per loop (mean ± std. dev. of 7 runs, 10,000 loops each)\n"
     ]
    }
   ],
   "source": [
    "%%timeit\n",
    "\n",
    "# Поиск Фибоначчи\n",
    "result = FibonacciSearch(a, a[95])"
   ]
  },
  {
   "cell_type": "code",
   "execution_count": 137,
   "id": "e9f55936",
   "metadata": {},
   "outputs": [
    {
     "name": "stdout",
     "output_type": "stream",
     "text": [
      "30.2 µs ± 4.59 µs per loop (mean ± std. dev. of 7 runs, 10,000 loops each)\n"
     ]
    }
   ],
   "source": [
    "%%timeit\n",
    "\n",
    "# Экспоненциальный поиск\n",
    "result = ExponentialSearch(a, a[95])"
   ]
  },
  {
   "cell_type": "code",
   "execution_count": 138,
   "id": "0cfa91c0",
   "metadata": {},
   "outputs": [
    {
     "name": "stdout",
     "output_type": "stream",
     "text": [
      "820 ns ± 37.9 ns per loop (mean ± std. dev. of 7 runs, 1,000,000 loops each)\n"
     ]
    }
   ],
   "source": [
    "%%timeit\n",
    "\n",
    "# Интерполяционный поиск\n",
    "result = InterpolationSearch(a, a[95])"
   ]
  },
  {
   "cell_type": "markdown",
   "id": "0b52af57",
   "metadata": {},
   "source": [
    "Вносим данные в гистограмму"
   ]
  },
  {
   "cell_type": "code",
   "execution_count": 139,
   "id": "0789609e",
   "metadata": {},
   "outputs": [
    {
     "data": {
      "image/png": "[encoded data removed]",
      "text/plain": [
       "<Figure size 800x600 with 1 Axes>"
      ]
     },
     "metadata": {},
     "output_type": "display_data"
    }
   ],
   "source": [
    "import matplotlib.pyplot as plt\n",
    "\n",
    "time_dict2 = {'linear':0.853,\n",
    "              'binary':23.1,\n",
    "              'jump':26.6,\n",
    "              'fibonacci':27.7,\n",
    "              'exponential':26.4,\n",
    "              'interpolation':0.842}\n",
    "\n",
    "plt.figure(figsize=(8,6))\n",
    "plt.bar(time_dict2.keys(), time_dict2.values())\n",
    "plt.show()"
   ]
  },
  {
   "cell_type": "code",
   "execution_count": 140,
   "id": "b5eb24ee",
   "metadata": {
    "scrolled": false
   },
   "outputs": [
    {
     "data": {
      "image/png": "[encoded data removed]",
      "text/plain": [
       "<Figure size 800x600 with 1 Axes>"
      ]
     },
     "metadata": {},
     "output_type": "display_data"
    }
   ],
   "source": [
    "import matplotlib.pyplot as plt\n",
    "\n",
    "time_dict2 = {'linear':5.86,\n",
    "              'binary':28.2,\n",
    "              'jump':27.7,\n",
    "              'fibonacci':30.1,\n",
    "              'exponential':30.2,\n",
    "              'interpolation':0.82}\n",
    "\n",
    "plt.figure(figsize=(8,6))\n",
    "plt.bar(time_dict2.keys(), time_dict2.values())\n",
    "plt.show()"
   ]
  },
  {
   "cell_type": "markdown",
   "id": "6c67545a",
   "metadata": {},
   "source": [
    "Задаем все функции сортировки"
   ]
  },
  {
   "cell_type": "code",
   "execution_count": 4,
   "id": "db7f49e3",
   "metadata": {},
   "outputs": [],
   "source": [
    "def bubble_sort(nums):\n",
    "    # Устанавливаем swapped в True, чтобы цикл запустился хотя бы один раз\n",
    "    swapped = True\n",
    "    while swapped:\n",
    "        swapped = False\n",
    "        for i in range(len(nums) - 1):\n",
    "            if nums[i] > nums[i + 1]:\n",
    "                # Меняем элементы\n",
    "                nums[i], nums[i + 1] = nums[i + 1], nums[i]\n",
    "                # Устанавливаем swapped в True для следующей итерации\n",
    "                swapped = True"
   ]
  },
  {
   "cell_type": "code",
   "execution_count": 5,
   "id": "326cb99e",
   "metadata": {},
   "outputs": [],
   "source": [
    "def selection_sort(nums):\n",
    "    # Значение i соответствует кол-ву отсортированных значений\n",
    "    for i in range(len(nums)):\n",
    "        # Исходно считаем наименьшим первый элемент\n",
    "        lowest_value_index = i\n",
    "        # Этот цикл перебирает несортированные элементы\n",
    "        for j in range(i + 1, len(nums)):\n",
    "            if nums[j] < nums[lowest_value_index]:\n",
    "                lowest_value_index = j\n",
    "        # Самый маленький элемент меняем с первым в списке\n",
    "        nums[i], nums[lowest_value_index] = nums[lowest_value_index], nums[i]"
   ]
  },
  {
   "cell_type": "code",
   "execution_count": 6,
   "id": "74736940",
   "metadata": {},
   "outputs": [],
   "source": [
    "def insertion_sort(nums):\n",
    "    # Сортировку начинаем со второго элемента, т.к. считается, что первый элемент уже отсортирован\n",
    "    for i in range(1, len(nums)):\n",
    "        item_to_insert = nums[i]\n",
    "        # Сохраняем ссылку на индекс предыдущего элемента\n",
    "        j = i - 1\n",
    "        # Элементы отсортированного сегмента перемещаем вперёд, если они больше\n",
    "        # элемента для вставки\n",
    "        while j >= 0 and nums[j] > item_to_insert:\n",
    "            nums[j + 1] = nums[j]\n",
    "            j -= 1\n",
    "        # Вставляем элемент\n",
    "        nums[j + 1] = item_to_insert"
   ]
  },
  {
   "cell_type": "code",
   "execution_count": 7,
   "id": "0ee92b34",
   "metadata": {},
   "outputs": [],
   "source": [
    "def merge(left_list, right_list):\n",
    "    sorted_list = []\n",
    "    left_list_index = right_list_index = 0\n",
    "\n",
    "    # Длина списков часто используется, поэтому создадим переменные для удобства\n",
    "    left_list_length, right_list_length = len(left_list), len(right_list)\n",
    "\n",
    "    for _ in range(left_list_length + right_list_length):\n",
    "        if left_list_index < left_list_length and right_list_index < right_list_length:\n",
    "            # Сравниваем первые элементы в начале каждого списка\n",
    "            # Если первый элемент левого подсписка меньше, добавляем его\n",
    "            # в отсортированный массив\n",
    "            if left_list[left_list_index] <= right_list[right_list_index]:\n",
    "                sorted_list.append(left_list[left_list_index])\n",
    "                left_list_index += 1\n",
    "            # Если первый элемент правого подсписка меньше, добавляем его\n",
    "            # в отсортированный массив\n",
    "            else:\n",
    "                sorted_list.append(right_list[right_list_index])\n",
    "                right_list_index += 1\n",
    "\n",
    "        # Если достигнут конец левого списка, элементы правого списка\n",
    "        # добавляем в конец результирующего списка\n",
    "        elif left_list_index == left_list_length:\n",
    "            sorted_list.append(right_list[right_list_index])\n",
    "            right_list_index += 1\n",
    "        # Если достигнут конец правого списка, элементы левого списка\n",
    "        # добавляем в отсортированный массив\n",
    "        elif right_list_index == right_list_length:\n",
    "            sorted_list.append(left_list[left_list_index])\n",
    "            left_list_index += 1\n",
    "\n",
    "    return sorted_list\n",
    "\n",
    "def merge_sort(nums):\n",
    "    # Возвращаем список, если он состоит из одного элемента\n",
    "    if len(nums) <= 1:\n",
    "        return nums\n",
    "\n",
    "    # Для того чтобы найти середину списка, используем деление без остатка\n",
    "    # Индексы должны быть integer\n",
    "    mid = len(nums) // 2\n",
    "\n",
    "    # Сортируем и объединяем подсписки\n",
    "    left_list = merge_sort(nums[:mid])\n",
    "    right_list = merge_sort(nums[mid:])\n",
    "\n",
    "    # Объединяем отсортированные списки в результирующий\n",
    "    return merge(left_list, right_list)"
   ]
  },
  {
   "cell_type": "code",
   "execution_count": 8,
   "id": "683c3596",
   "metadata": {},
   "outputs": [],
   "source": [
    "def partition(nums, low, high):\n",
    "    # Выбираем средний элемент в качестве опорного\n",
    "    # Также возможен выбор первого, последнего\n",
    "    # или произвольного элементов в качестве опорного\n",
    "    pivot = nums[(low + high) // 2]\n",
    "    i = low - 1\n",
    "    j = high + 1\n",
    "    while True:\n",
    "        i += 1\n",
    "        while nums[i] < pivot:\n",
    "            i += 1\n",
    "\n",
    "        j -= 1\n",
    "        while nums[j] > pivot:\n",
    "            j -= 1\n",
    "\n",
    "        if i >= j:\n",
    "            return j\n",
    "\n",
    "        # Если элемент с индексом i (слева от опорного) больше, чем\n",
    "        # элемент с индексом j (справа от опорного), меняем их местами\n",
    "        nums[i], nums[j] = nums[j], nums[i]\n",
    "\n",
    "def quick_sort(nums):\n",
    "    # Создадим вспомогательную функцию, которая вызывается рекурсивно\n",
    "    def _quick_sort(items, low, high):\n",
    "        if low < high:\n",
    "            # This is the index after the pivot, where our lists are split\n",
    "            split_index = partition(items, low, high)\n",
    "            _quick_sort(items, low, split_index)\n",
    "            _quick_sort(items, split_index + 1, high)\n",
    "\n",
    "    _quick_sort(nums, 0, len(nums) - 1)"
   ]
  },
  {
   "cell_type": "markdown",
   "id": "90a7a608",
   "metadata": {},
   "source": [
    "Создаем массив, заполненный цифрами от 1 до 100 в их прямом порядке, и сортируем его копии, замеряя время работы"
   ]
  },
  {
   "cell_type": "code",
   "execution_count": 26,
   "id": "38b52cbb",
   "metadata": {},
   "outputs": [],
   "source": [
    "b=[]\n",
    "for i in range(100):\n",
    "    b.append(i+1)"
   ]
  },
  {
   "cell_type": "code",
   "execution_count": 41,
   "id": "4f5fe82e",
   "metadata": {},
   "outputs": [
    {
     "name": "stdout",
     "output_type": "stream",
     "text": [
      "11.2 µs ± 600 ns per loop (mean ± std. dev. of 7 runs, 100,000 loops each)\n"
     ]
    }
   ],
   "source": [
    "%%timeit\n",
    "copy_list = b.copy()\n",
    "result = bubble_sort(copy_list)"
   ]
  },
  {
   "cell_type": "code",
   "execution_count": 42,
   "id": "5f8e8154",
   "metadata": {},
   "outputs": [
    {
     "name": "stdout",
     "output_type": "stream",
     "text": [
      "651 µs ± 169 µs per loop (mean ± std. dev. of 7 runs, 1,000 loops each)\n"
     ]
    }
   ],
   "source": [
    "%%timeit\n",
    "copy_list = b.copy()\n",
    "result = selection_sort(copy_list)"
   ]
  },
  {
   "cell_type": "code",
   "execution_count": 43,
   "id": "8ac12582",
   "metadata": {},
   "outputs": [
    {
     "name": "stdout",
     "output_type": "stream",
     "text": [
      "21.7 µs ± 2.81 µs per loop (mean ± std. dev. of 7 runs, 10,000 loops each)\n"
     ]
    }
   ],
   "source": [
    "%%timeit\n",
    "copy_list = b.copy()\n",
    "result = insertion_sort(copy_list)"
   ]
  },
  {
   "cell_type": "code",
   "execution_count": 44,
   "id": "37dce045",
   "metadata": {},
   "outputs": [
    {
     "name": "stdout",
     "output_type": "stream",
     "text": [
      "314 µs ± 55.7 µs per loop (mean ± std. dev. of 7 runs, 1,000 loops each)\n"
     ]
    }
   ],
   "source": [
    "%%timeit\n",
    "copy_list = b.copy()\n",
    "result = merge_sort(copy_list)"
   ]
  },
  {
   "cell_type": "code",
   "execution_count": 45,
   "id": "44bd11e9",
   "metadata": {},
   "outputs": [
    {
     "name": "stdout",
     "output_type": "stream",
     "text": [
      "162 µs ± 25.8 µs per loop (mean ± std. dev. of 7 runs, 10,000 loops each)\n"
     ]
    }
   ],
   "source": [
    "%%timeit\n",
    "copy_list = b.copy()\n",
    "result = quick_sort(copy_list)"
   ]
  },
  {
   "cell_type": "markdown",
   "id": "c308094a",
   "metadata": {},
   "source": [
    "Заносим результаты измерений в гистограмму"
   ]
  },
  {
   "cell_type": "code",
   "execution_count": 46,
   "id": "037c34d5",
   "metadata": {
    "scrolled": false
   },
   "outputs": [
    {
     "data": {
      "image/png": "[encoded data removed]",
      "text/plain": [
       "<Figure size 800x600 with 1 Axes>"
      ]
     },
     "metadata": {},
     "output_type": "display_data"
    }
   ],
   "source": [
    "import matplotlib.pyplot as plt\n",
    "\n",
    "time_dict2 = {'bubble':11.2,\n",
    "              'selection':651,\n",
    "              'insertion':21.7,\n",
    "              'merge':314,\n",
    "              'quick':162}\n",
    "plt.figure(figsize=(8,6))\n",
    "plt.bar(time_dict2.keys(), time_dict2.values())\n",
    "plt.show()"
   ]
  },
  {
   "cell_type": "markdown",
   "id": "e2243f65",
   "metadata": {},
   "source": [
    "Создаем массив, заполненный цифрами от 1 до 100 в их обратном порядке, и сортируем его копии, замеряя время работы"
   ]
  },
  {
   "cell_type": "code",
   "execution_count": 34,
   "id": "8a25865f",
   "metadata": {},
   "outputs": [],
   "source": [
    "c=[]\n",
    "for i in range(100):\n",
    "    c.append(100-i)"
   ]
  },
  {
   "cell_type": "code",
   "execution_count": 47,
   "id": "7787920b",
   "metadata": {
    "scrolled": true
   },
   "outputs": [
    {
     "name": "stdout",
     "output_type": "stream",
     "text": [
      "2.27 ms ± 236 µs per loop (mean ± std. dev. of 7 runs, 100 loops each)\n"
     ]
    }
   ],
   "source": [
    "%%timeit\n",
    "copy_list = c.copy()\n",
    "result = bubble_sort(copy_list)"
   ]
  },
  {
   "cell_type": "code",
   "execution_count": 48,
   "id": "5cb78bd7",
   "metadata": {},
   "outputs": [
    {
     "name": "stdout",
     "output_type": "stream",
     "text": [
      "541 µs ± 29.8 µs per loop (mean ± std. dev. of 7 runs, 1,000 loops each)\n"
     ]
    }
   ],
   "source": [
    "%%timeit\n",
    "copy_list = c.copy()\n",
    "result = selection_sort(copy_list)"
   ]
  },
  {
   "cell_type": "code",
   "execution_count": 50,
   "id": "810b0b2e",
   "metadata": {},
   "outputs": [
    {
     "name": "stdout",
     "output_type": "stream",
     "text": [
      "745 µs ± 37.5 µs per loop (mean ± std. dev. of 7 runs, 1,000 loops each)\n"
     ]
    }
   ],
   "source": [
    "%%timeit\n",
    "copy_list = c.copy()\n",
    "result = insertion_sort(copy_list)"
   ]
  },
  {
   "cell_type": "code",
   "execution_count": 51,
   "id": "eb3814be",
   "metadata": {},
   "outputs": [
    {
     "name": "stdout",
     "output_type": "stream",
     "text": [
      "303 µs ± 14.2 µs per loop (mean ± std. dev. of 7 runs, 1,000 loops each)\n"
     ]
    }
   ],
   "source": [
    "%%timeit\n",
    "copy_list = c.copy()\n",
    "result = merge_sort(copy_list)"
   ]
  },
  {
   "cell_type": "code",
   "execution_count": 52,
   "id": "261a1af6",
   "metadata": {},
   "outputs": [
    {
     "name": "stdout",
     "output_type": "stream",
     "text": [
      "164 µs ± 14.5 µs per loop (mean ± std. dev. of 7 runs, 10,000 loops each)\n"
     ]
    }
   ],
   "source": [
    "%%timeit\n",
    "copy_list = c.copy()\n",
    "result = quick_sort(copy_list)"
   ]
  },
  {
   "cell_type": "markdown",
   "id": "2b3a5fae",
   "metadata": {},
   "source": [
    "Заносим результаты измерений в гистограмму"
   ]
  },
  {
   "cell_type": "code",
   "execution_count": 53,
   "id": "68376439",
   "metadata": {},
   "outputs": [
    {
     "data": {
      "image/png": "[encoded data removed]",
      "text/plain": [
       "<Figure size 800x600 with 1 Axes>"
      ]
     },
     "metadata": {},
     "output_type": "display_data"
    }
   ],
   "source": [
    "import matplotlib.pyplot as plt\n",
    "\n",
    "time_dict2 = {'bubble':2270,\n",
    "              'selection':541,\n",
    "              'insertion':745,\n",
    "              'merge':303,\n",
    "              'quick':164}\n",
    "plt.figure(figsize=(8,6))\n",
    "plt.bar(time_dict2.keys(), time_dict2.values())\n",
    "plt.show()"
   ]
  },
  {
   "cell_type": "code",
   "execution_count": null,
   "id": "559ba9bd",
   "metadata": {},
   "outputs": [],
   "source": []
  }
 ],
 "metadata": {
  "kernelspec": {
   "display_name": "Python 3 (ipykernel)",
   "language": "python",
   "name": "python3"
  },
  "language_info": {
   "codemirror_mode": {
    "name": "ipython",
    "version": 3
   },
   "file_extension": ".py",
   "mimetype": "text/x-python",
   "name": "python",
   "nbconvert_exporter": "python",
   "pygments_lexer": "ipython3",
   "version": "3.11.4"
  }
 },
 "nbformat": 4,
 "nbformat_minor": 5
}
